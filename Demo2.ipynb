{
 "cells": [
  {
   "cell_type": "code",
   "execution_count": 5,
   "id": "47533e10",
   "metadata": {
    "ExecuteTime": {
     "end_time": "2024-01-04T03:02:29.772470Z",
     "start_time": "2024-01-04T03:02:29.760427Z"
    }
   },
   "outputs": [
    {
     "name": "stdout",
     "output_type": "stream",
     "text": [
      "3.7.4 (default, Aug  9 2019, 18:34:13) [MSC v.1915 64 bit (AMD64)]\n"
     ]
    }
   ],
   "source": [
    "import sys\n",
    "print(sys.version)"
   ]
  },
  {
   "cell_type": "code",
   "execution_count": 8,
   "id": "705c2982",
   "metadata": {
    "ExecuteTime": {
     "end_time": "2024-01-04T03:02:49.082150Z",
     "start_time": "2024-01-04T03:02:49.064871Z"
    }
   },
   "outputs": [],
   "source": [
    "import sqlparse\n",
    "import graphviz\n",
    "import os\n",
    "from sqlvis import SQLVisualization\n",
    "from sqlparser import parse_sql\n",
    "\n",
    "# 设置Graphviz的路径\n",
    "os.environ[\"PATH\"] += os.pathsep + 'C:/Program Files/Graphviz/bin/'"
   ]
  },
  {
   "cell_type": "code",
   "execution_count": 3,
   "id": "8e5b4e47",
   "metadata": {
    "ExecuteTime": {
     "end_time": "2024-01-04T03:02:14.010298Z",
     "start_time": "2024-01-04T03:02:13.995299Z"
    }
   },
   "outputs": [],
   "source": [
    "# sql = \"SELECT column1 FROM table1 WHERE column2 = 'value' GROUP BY column3 HAVING count(column1) > 5\"\n",
    "\n",
    "# parsed_components = parse_sql(sql)\n",
    "\n",
    "# # 创建 Graphviz 图形对象\n",
    "# dot = graphviz.Digraph(comment='SQL Visualization')\n",
    "\n",
    "# # 添加 SELECT 节点\n",
    "# select_description = f\"Selecting fields: {', '.join(parsed_components['select_fields'])}\"\n",
    "# dot.node('SELECT', select_description + '\\n')\n",
    "\n",
    "# # 添加 FROM 节点\n",
    "# from_description = f\"From table: {', '.join(parsed_components['tables'])}\"\n",
    "# dot.node('FROM', from_description + '\\n')\n",
    "\n",
    "# # 添加 WHERE 节点（如果有条件）\n",
    "# if parsed_components['conditions']:\n",
    "#     where_description = f\"Where conditions: {' AND '.join(parsed_components['conditions'])}\"\n",
    "#     dot.node('WHERE', where_description + '\\n')\n",
    "\n",
    "# # 添加 GROUP BY 节点（如果有）\n",
    "# if parsed_components['group_by']:\n",
    "#     group_by_description = f\"Grouping by: {', '.join(parsed_components['group_by'])}\"\n",
    "#     dot.node('GROUP_BY', group_by_description + '\\n')\n",
    "\n",
    "# # 添加 HAVING 节点（如果有）\n",
    "# if parsed_components['having']:\n",
    "#     having_description = f\"Having conditions: {' AND '.join(parsed_components['having'])}\"\n",
    "#     dot.node('HAVING', having_description + '\\n')\n",
    "\n",
    "# # 添加 ORDER BY 节点（如果有）\n",
    "# if parsed_components['order_by']:\n",
    "#     order_by_description = f\"Ordering by: {', '.join(parsed_components['order_by'])}\"\n",
    "#     dot.node('ORDER_BY', order_by_description + '\\n')\n",
    "\n",
    "# # 连接节点，并在箭头上添加描述性文字\n",
    "# if parsed_components['conditions']:\n",
    "#     dot.edge('FROM', 'WHERE', label='filtered by')\n",
    "#     last_node = 'WHERE'\n",
    "# else:\n",
    "#     last_node = 'FROM'\n",
    "\n",
    "# if parsed_components['group_by']:\n",
    "#     dot.edge(last_node, 'GROUP_BY', label='then grouping')\n",
    "#     last_node = 'GROUP_BY'\n",
    "\n",
    "# if parsed_components['having']:\n",
    "#     dot.edge(last_node, 'HAVING', label='with aggregation condition')\n",
    "#     last_node = 'HAVING'\n",
    "\n",
    "# if parsed_components['order_by']:\n",
    "#     dot.edge(last_node, 'ORDER_BY', label='then ordering')\n",
    "#     last_node = 'ORDER_BY'\n",
    "\n",
    "# dot.edge(last_node, 'SELECT', label='final selection')\n",
    "\n",
    "# # 输出图形源代码\n",
    "# print(dot.source)\n",
    "\n",
    "# # 保存图形到文件，并尝试在视图中打开\n",
    "# dot.render('sql_visualization', format='pdf', view=True)"
   ]
  },
  {
   "cell_type": "code",
   "execution_count": 9,
   "id": "6538faa1",
   "metadata": {
    "ExecuteTime": {
     "end_time": "2024-01-04T03:02:52.606458Z",
     "start_time": "2024-01-04T03:02:51.248272Z"
    }
   },
   "outputs": [
    {
     "name": "stdout",
     "output_type": "stream",
     "text": [
      "// SQL Visualization\n",
      "digraph {\n",
      "\tSELECT [label=\"Selecting fields: column1\n",
      "\"]\n",
      "\tFROM [label=\"From table: table1\n",
      "\"]\n",
      "\tWHERE [label=\"Where conditions: column2 = 'value'\n",
      "\"]\n",
      "\tGROUP_BY [label=\"Grouping by: column3\n",
      "\"]\n",
      "\tHAVING [label=\"Having conditions: count(column1) > 5\n",
      "\"]\n",
      "\tFROM -> WHERE [label=\"filtered by\"]\n",
      "\tWHERE -> GROUP_BY [label=\"then grouping\"]\n",
      "\tGROUP_BY -> HAVING [label=\"with aggregation condition\"]\n",
      "\tHAVING -> SELECT [label=\"final selection\"]\n",
      "}\n",
      "\n"
     ]
    }
   ],
   "source": [
    "sql = \"SELECT column1 FROM table1 WHERE column2 = 'value' GROUP BY column3 HAVING count(column1) > 5\"\n",
    "parsed_components = parse_sql(sql)\n",
    "visualizer = SQLVisualization(parsed_components)\n",
    "visualizer.create_graph()"
   ]
  },
  {
   "cell_type": "code",
   "execution_count": 10,
   "id": "20c01743",
   "metadata": {
    "ExecuteTime": {
     "end_time": "2024-01-04T03:02:58.468753Z",
     "start_time": "2024-01-04T03:02:58.453751Z"
    }
   },
   "outputs": [
    {
     "data": {
      "text/plain": [
       "{'select_fields': ['column1'],\n",
       " 'tables': ['table1'],\n",
       " 'conditions': [\"column2 = 'value'\"],\n",
       " 'group_by': ['column3'],\n",
       " 'order_by': [],\n",
       " 'having': ['count(column1) > 5']}"
      ]
     },
     "execution_count": 10,
     "metadata": {},
     "output_type": "execute_result"
    }
   ],
   "source": [
    "parsed_components"
   ]
  }
 ],
 "metadata": {
  "kernelspec": {
   "display_name": "Python 3 (ipykernel)",
   "language": "python",
   "name": "python3"
  },
  "language_info": {
   "codemirror_mode": {
    "name": "ipython",
    "version": 3
   },
   "file_extension": ".py",
   "mimetype": "text/x-python",
   "name": "python",
   "nbconvert_exporter": "python",
   "pygments_lexer": "ipython3",
   "version": "3.7.4"
  }
 },
 "nbformat": 4,
 "nbformat_minor": 5
}
